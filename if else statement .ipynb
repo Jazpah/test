{
 "cells": [
  {
   "cell_type": "code",
   "execution_count": 4,
   "id": "60552e13",
   "metadata": {},
   "outputs": [
    {
     "name": "stdout",
     "output_type": "stream",
     "text": [
      "a is less than b\n",
      "a is definitely less than b\n",
      "Not sure if a is less than b\n"
     ]
    }
   ],
   "source": [
    "a = 1\n",
    "b = 2\n",
    "if a < b:\n",
    "    print(\"a is less than b\")\n",
    "    print(\"a is definitely less than b\")\n",
    "print(\"Not sure if a is less than b\")"
   ]
  },
  {
   "cell_type": "code",
   "execution_count": 6,
   "id": "ca792d9f",
   "metadata": {},
   "outputs": [
    {
     "name": "stdout",
     "output_type": "stream",
     "text": [
      "c is not less than \n"
     ]
    }
   ],
   "source": [
    "c = 5 \n",
    "d = 4\n",
    "if c < d:\n",
    "    print(\"c is less than d\")\n",
    "else:\n",
    "    print(\"c is not less than \")"
   ]
  },
  {
   "cell_type": "code",
   "execution_count": 1,
   "id": "5fea1f4d",
   "metadata": {},
   "outputs": [
    {
     "name": "stdout",
     "output_type": "stream",
     "text": [
      "e is greater than f by more than 5\n"
     ]
    }
   ],
   "source": [
    "e = 7\n",
    "f = 1\n",
    "if e < f:\n",
    "    print(\"e is definitely less than f\")\n",
    "elif e==f:\n",
    "    print('e is equal to f')\n",
    "elif e > f + 5:\n",
    "    print(\"e is greater than f by more than 5\")\n",
    "elif e > f == 5:\n",
    "    print(\"e is greater than f by 5\")\n",
    "else:\n",
    "    print(\"e is not less than f\")\n"
   ]
  },
  {
   "cell_type": "code",
   "execution_count": 24,
   "id": "d8efa866",
   "metadata": {},
   "outputs": [
    {
     "name": "stdout",
     "output_type": "stream",
     "text": [
      "g is greater than h\n"
     ]
    }
   ],
   "source": [
    "g = 9\n",
    "h = 8\n",
    "if g < h:\n",
    "    print('g is less than h')\n",
    "else:\n",
    "    if g == h:\n",
    "        print(\"g is equal to h\")\n",
    "    else:\n",
    "        print('g is greater than h')"
   ]
  },
  {
   "cell_type": "code",
   "execution_count": 35,
   "id": "11ce4158",
   "metadata": {},
   "outputs": [
    {
     "name": "stdout",
     "output_type": "stream",
     "text": [
      "bmi: \n",
      "22.5\n",
      "Jasper is not overweight\n"
     ]
    }
   ],
   "source": [
    "Name = \"Jasper\"\n",
    "height_m = 2\n",
    "weight_kg = 90 \n",
    "bmi = weight_kg / (height_m ** 2)\n",
    "print('bmi: ')\n",
    "print(bmi)\n",
    "if bmi < 25:\n",
    "    print('Jasper is not overweight')\n",
    "elif bmi == 25:\n",
    "    print('Jasper is okay')\n",
    "else:\n",
    "    print('Jasper is overweight')"
   ]
  },
  {
   "cell_type": "code",
   "execution_count": 37,
   "id": "963599d9",
   "metadata": {},
   "outputs": [
    {
     "name": "stdout",
     "output_type": "stream",
     "text": [
      "bmi= \n",
      "30.0\n",
      "Chuks is not overweight\n"
     ]
    }
   ],
   "source": [
    "#Chukwudi's weight\n",
    "heght_m = 4\n",
    "weight_kg = 120\n",
    "bmi = weight_kg / (height_m ** 2)\n",
    "print('bmi= ')\n",
    "print(bmi)\n",
    "if bmi < 40:\n",
    "    print('Chuks is not overweight')\n",
    "elif bmi == 20:\n",
    "    print('it is equal to 20 ')\n",
    "else:\n",
    "    print ('chuks is overweighted')"
   ]
  },
  {
   "cell_type": "code",
   "execution_count": null,
   "id": "6d70df1d",
   "metadata": {},
   "outputs": [],
   "source": []
  }
 ],
 "metadata": {
  "kernelspec": {
   "display_name": "Python 3 (ipykernel)",
   "language": "python",
   "name": "python3"
  },
  "language_info": {
   "codemirror_mode": {
    "name": "ipython",
    "version": 3
   },
   "file_extension": ".py",
   "mimetype": "text/x-python",
   "name": "python",
   "nbconvert_exporter": "python",
   "pygments_lexer": "ipython3",
   "version": "3.10.9"
  }
 },
 "nbformat": 4,
 "nbformat_minor": 5
}
